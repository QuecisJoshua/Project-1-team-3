{
 "cells": [
  {
   "cell_type": "code",
   "execution_count": 1,
   "metadata": {},
   "outputs": [
    {
     "ename": "ModuleNotFoundError",
     "evalue": "No module named 'api_key'",
     "output_type": "error",
     "traceback": [
      "\u001b[1;31m---------------------------------------------------------------------------\u001b[0m",
      "\u001b[1;31mModuleNotFoundError\u001b[0m                       Traceback (most recent call last)",
      "\u001b[1;32m<ipython-input-1-114dde91c4b3>\u001b[0m in \u001b[0;36m<module>\u001b[1;34m\u001b[0m\n\u001b[0;32m     13\u001b[0m \u001b[1;33m\u001b[0m\u001b[0m\n\u001b[0;32m     14\u001b[0m \u001b[1;31m# Import API key\u001b[0m\u001b[1;33m\u001b[0m\u001b[1;33m\u001b[0m\u001b[1;33m\u001b[0m\u001b[0m\n\u001b[1;32m---> 15\u001b[1;33m \u001b[1;32mfrom\u001b[0m \u001b[0mapi_key\u001b[0m \u001b[1;32mimport\u001b[0m \u001b[0mgkey\u001b[0m\u001b[1;33m\u001b[0m\u001b[1;33m\u001b[0m\u001b[0m\n\u001b[0m\u001b[0;32m     16\u001b[0m \u001b[1;32mfrom\u001b[0m \u001b[0mapi_key\u001b[0m \u001b[1;32mimport\u001b[0m \u001b[0mweather_key\u001b[0m\u001b[1;33m\u001b[0m\u001b[1;33m\u001b[0m\u001b[0m\n\u001b[0;32m     17\u001b[0m \u001b[0mgmaps\u001b[0m\u001b[1;33m.\u001b[0m\u001b[0mconfigure\u001b[0m\u001b[1;33m(\u001b[0m\u001b[0mapi_key\u001b[0m\u001b[1;33m=\u001b[0m\u001b[0mgkey\u001b[0m\u001b[1;33m)\u001b[0m\u001b[1;33m\u001b[0m\u001b[1;33m\u001b[0m\u001b[0m\n",
      "\u001b[1;31mModuleNotFoundError\u001b[0m: No module named 'api_key'"
     ]
    }
   ],
   "source": [
    "# Dependencies and Setup\n",
    "import matplotlib.pyplot as plt\n",
    "import pandas as pd\n",
    "import numpy as np\n",
    "import requests\n",
    "import time\n",
    "import scipy.stats as st\n",
    "import gmaps\n",
    "import os\n",
    "\n",
    "# Incorporated citipy to determine city based on latitude and longitude\n",
    "from citipy import citipy\n",
    "\n",
    "# Import API key\n",
    "from api_keys import gkey\n",
    "from api_keys import weather_key\n",
    "gmaps.configure(api_key=gkey)\n",
    "\n",
    "# Save config information.\n",
    "map_url = \"https://maps.googleapis.com/maps/api/geocode/json?\"\n",
    "\n",
    "# Build partial query URL\n",
    "map_query_url = f\"{map_url}&key={gkey}&address=\"\n",
    "\n",
    "# Input File (CSV)\n",
    "input_data_file_city = r\"C:\\Users\\micha\\Documents\\AirQuality\\annual_aqi_by_cbsa_2019.csv\"\n",
    "input_data_file_county = r\"C:\\Users\\micha\\Documents\\AirQuality\\annual_aqi_by_county_2019.csv\"\n",
    "\n",
    "aqi_city = pd.read_csv(input_data_file_city)\n",
    "aqi_county = pd.read_csv(input_data_file_county)"
   ]
  },
  {
   "cell_type": "code",
   "execution_count": null,
   "metadata": {},
   "outputs": [],
   "source": [
    "#CREATING DATA BY STATE\n",
    "\n",
    "\n",
    "aqi_county_groups = aqi_county.set_index('State').groupby(['State'])\n",
    "\n",
    "# Get Average data by State\n",
    "good_days = aqi_county_groups[\"Good Days\"].mean()\n",
    "moderate_days = aqi_county_groups[\"Moderate Days\"].mean()\n",
    "unhealthy_days = aqi_county_groups[\"Unhealthy Days\"].mean()\n",
    "very_unhealthy_days = aqi_county_groups[\"Very Unhealthy Days\"].mean()\n",
    "hazardous_days = aqi_county_groups[\"Hazardous Days\"].mean()\n",
    "days_co = aqi_county_groups[\"Days CO\"].mean()\n",
    "days_no2 = aqi_county_groups[\"Days NO2\"].mean()\n",
    "days_ozone = aqi_county_groups[\"Days Ozone\"].mean()\n",
    "days_so2 = aqi_county_groups[\"Days SO2\"].mean()\n",
    "\n",
    "# Create DataFrame\n",
    "aqi_state_summary = pd.DataFrame({\"Good Days\" : good_days,\n",
    "                                  \"Moderate Days\" : moderate_days,\n",
    "                                  \"Unhealthy Days\" : unhealthy_days,\n",
    "                                  \"Very Unhealthy Days\" : very_unhealthy_days,\n",
    "                                  \"Hazardous Days\" : hazardous_days,\n",
    "                                  \"Days CO\" : days_co,\n",
    "                                  \"Days NO2\" : days_no2,\n",
    "                                  \"Days Ozone\" : days_ozone,\n",
    "                                  \"Days SO2\" : days_so2                                  \n",
    "                             })\n",
    "\n",
    "aqi_state_summary.head()"
   ]
  },
  {
   "cell_type": "code",
   "execution_count": null,
   "metadata": {},
   "outputs": [],
   "source": [
    "# Top 5 States with Hazardous Days\n",
    "aqi_state_summary.sort_values(by='Good Days', ascending=False).head()"
   ]
  },
  {
   "cell_type": "code",
   "execution_count": null,
   "metadata": {},
   "outputs": [],
   "source": [
    "# Top 5 States with Days CO\n",
    "aqi_state_summary.sort_values(by='Days CO', ascending=False).head()"
   ]
  },
  {
   "cell_type": "code",
   "execution_count": null,
   "metadata": {},
   "outputs": [],
   "source": [
    "# Top 5 States with Days NO2\n",
    "aqi_state_summary.sort_values(by='Days NO2', ascending=False).head()"
   ]
  },
  {
   "cell_type": "code",
   "execution_count": null,
   "metadata": {},
   "outputs": [],
   "source": [
    "# Top 5 States with higher than normal Ozone\n",
    "aqi_state_summary.sort_values(by='Days Ozone', ascending=False).head()"
   ]
  },
  {
   "cell_type": "code",
   "execution_count": null,
   "metadata": {},
   "outputs": [],
   "source": [
    "# Top 5 States with Days SO2\n",
    "aqi_state_summary.sort_values(by='Days SO2', ascending=False).head()"
   ]
  },
  {
   "cell_type": "code",
   "execution_count": null,
   "metadata": {},
   "outputs": [],
   "source": [
    "#CREATING DATA BY CITY\n",
    "\n",
    "# Data is not collected for all 365 days by each city so an accurate picture cannot be attained with certainty. \n",
    "#This has to be taken into consideration when looking at results\n",
    "\n",
    "#collected data percentage \n",
    "aqi_city[\"Year Coverage\"] = aqi_city[\"Days with AQI\"] / 365\n",
    "aqi_city[\"Days Ozone Percent\"] = aqi_city[\"Days Ozone\"]/aqi_city[\"Days with AQI\"]\n",
    "\n",
    "# Cities with best data coverage for evaluation (atleast 70% or higher data collected in 365 days)  \n",
    "coverage = aqi_city.loc[aqi_city[\"Year Coverage\"] >= .70]\n",
    "coverage_df = pd.DataFrame(coverage)\n",
    "\n",
    "# Top 5 cities with best air quality\n",
    "coverage_df.sort_values(['Days Ozone'], ascending=[False]).head()"
   ]
  },
  {
   "cell_type": "code",
   "execution_count": null,
   "metadata": {},
   "outputs": [],
   "source": [
    "# The original imported dataset for AQI does not have Latitude and Longitude for each city.  In order to map it, lat & Lng\n",
    "# is pulled from google\n",
    "\n",
    "available_cities = []\n",
    "state = []\n",
    "lats = []\n",
    "lngs = []\n",
    "medianAQI = []\n",
    "days_ozone = []\n",
    "hazardous_days = []\n",
    "percentile = []\n",
    "\n",
    "print(\"----------Pulling City Lat and Lng data------------\")\n",
    "\n",
    "#loop through all the cities from the imported dataset\n",
    "for i in range (len(aqi_city['CBSA'])):\n",
    "    try:\n",
    "        #handle spaces in city names\n",
    "        response = requests.get(map_query_url + aqi_city['CBSA'][i].replace(\" \",\"+\")).json()\n",
    "\n",
    "        #gather city data\n",
    "        available_cities.append(aqi_city['CBSA'][i])\n",
    "        \n",
    "        #get state from city name\n",
    "        state.append(aqi_city['CBSA'][i].rsplit(\", \")[1])\n",
    "        \n",
    "        #get lat & Lng from json response\n",
    "        lat = round(response['results'][0]['geometry']['location']['lat'], 2)\n",
    "        lng = round(response['results'][0]['geometry']['location']['lng'], 2)\n",
    "        lats.append(lat)\n",
    "        lngs.append(lng)\n",
    "        \n",
    "        #collect medianAQI for found cities\n",
    "        medianAQI.append(aqi_city['Median AQI'][i])\n",
    "        \n",
    "        #collect days ozone for found cities\n",
    "        days_ozone.append(aqi_city['Days Ozone'][i])\n",
    "        \n",
    "        #collect hazardous days for found cities\n",
    "        hazardous_days.append(aqi_city['Hazardous Days'][i])\n",
    "        \n",
    "        #collect percentile AQI \n",
    "        percentile.append(aqi_city['90th Percentile AQI'][i])\n",
    "\n",
    "        #print city data as its aquired\n",
    "        print(aqi_city['CBSA'][i] + \", Lat:\" + str(lat) + \", Lng:\" + str(lng))\n",
    "              \n",
    "    except Exception:\n",
    "        #print city name that was not found\n",
    "        print(aqi_city['CBSA'][i] + \" not found!\")\n",
    "\n",
    "print(\"-------------Data Read Completed-------------\")\n",
    "\n",
    "available_city_data = {\n",
    "    \"City\":available_cities,\n",
    "    \"State\": state,\n",
    "    \"Lat\":lats,\n",
    "    \"Lng\":lngs,\n",
    "    \"AQI\": medianAQI,\n",
    "    \"Days Ozone\": days_ozone,\n",
    "    \"Hazardous Days\": hazardous_days,\n",
    "    \"90th Percentile AQI\": percentile\n",
    "}"
   ]
  },
  {
   "cell_type": "code",
   "execution_count": null,
   "metadata": {},
   "outputs": [],
   "source": [
    "map_ready_data = pd.DataFrame(available_city_data)\n",
    "map_ready_data.head()"
   ]
  },
  {
   "cell_type": "code",
   "execution_count": null,
   "metadata": {},
   "outputs": [],
   "source": [
    "zipped_latlng = list(zip(CBSA,lat,lng,max_AQI,PM2_5))"
   ]
  },
  {
   "cell_type": "code",
   "execution_count": null,
   "metadata": {},
   "outputs": [],
   "source": [
    "dataMap_df = pd.DataFrame(zipped_latlng, columns = ['CBSA' ,'Latitude','Longitude','Days Ozone','PM2_5'])\n",
    "dataMap_df"
   ]
  },
  {
   "cell_type": "code",
   "execution_count": null,
   "metadata": {},
   "outputs": [],
   "source": [
    "AZ_data = map_ready_data.loc[map_ready_data[\"State\"] == 'AZ']\n",
    "\n",
    "#create bar chart\n",
    "x_axis = np.arange(len(AZ_data))\n",
    "plt.bar(x_axis, AZ_data[\"Days Ozone\"], align=\"center\")\n",
    "tick_locations = [value for value in x_axis]\n",
    "plt.xticks(tick_locations, AZ_data[\"City\"], rotation=\"vertical\")\n",
    "plt.title('Recorded Days Ozone in AZ - 2019')\n",
    "plt.xlabel('Cities')\n",
    "plt.show()\n",
    "AZ_data\n",
    "\n",
    "# Conclusion: Phoenix metropolitan area does experience Meduim to Good ozone exposure levels.\n",
    "# Payson Az and Phoenix metropolitan area are both in medium to good ozone due to high pollutants in the air.\n",
    "# Flagstaff and Prescott, AZ has the higher number of Good Ozone with low median AQI while Lake Havasu didn't have enough sample data."
   ]
  },
  {
   "cell_type": "code",
   "execution_count": null,
   "metadata": {
    "scrolled": true
   },
   "outputs": [],
   "source": [
    "# line plot \n",
    "\n",
    "aqi_city[\"Year Coverage\"] = aqi_city[\"Days with AQI\"] / 365\n",
    "aqi_city[\"Days Ozone Percent\"] = aqi_city[\"Good Days\"]/aqi_city[\"Days with AQI\"]\n",
    "\n",
    "# Cities with best data coverage for evaluation (atleast 70% or higher data collected in 365 days)  \n",
    "coverage = aqi_city.loc[aqi_city[\"Year Coverage\"] >= .70]\n",
    "coverage_df = pd.DataFrame(coverage)\n",
    "\n",
    "line_plot_df = coverage_df.reset_index()\n",
    "line_plot_df\n",
    "line_plot_final = line_plot_df[[\"Year Coverage\", \"Days Ozone\", \"Days with AQI\"]]\n",
    "line_plot_final\n",
    "lines = line_plot_final.plot.line()"
   ]
  },
  {
   "cell_type": "code",
   "execution_count": null,
   "metadata": {},
   "outputs": [],
   "source": [
    "from IPython.core.display import Image, display\n",
    "display(Image(r'C:\\Users\\micha\\OneDrive\\Desktop\\img\\goodair.png', width=1900, unconfined=True))"
   ]
  },
  {
   "cell_type": "code",
   "execution_count": null,
   "metadata": {},
   "outputs": [],
   "source": [
    "# Hypothesis: An assumption can be made that In general, as concentrations of ground-level ozone increase, \n",
    "#both the number of people affected and the seriousness of the health effects increase. \n",
    "#Also, more people with lung disease visit doctors or emergency rooms and are admitted to the hospital. \n",
    "#When ozone levels are very high, everyone should be concerned about ozone exposure.\n",
    "#Congested metropolitan city like Phoenix with high traffic volume and more industries would show moderate to Good Days of Ozone.\n",
    "#(AQI between 0-50) than cities that have lower population, low traffic and no pollution creating industry"
   ]
  }
 ],
 "metadata": {
  "kernelspec": {
   "display_name": "Python 3",
   "language": "python",
   "name": "python3"
  },
  "language_info": {
   "codemirror_mode": {
    "name": "ipython",
    "version": 3
   },
   "file_extension": ".py",
   "mimetype": "text/x-python",
   "name": "python",
   "nbconvert_exporter": "python",
   "pygments_lexer": "ipython3",
   "version": "3.7.6"
  }
 },
 "nbformat": 4,
 "nbformat_minor": 4
}
